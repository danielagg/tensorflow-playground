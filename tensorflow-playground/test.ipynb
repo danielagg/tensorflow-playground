{
 "cells": [
  {
   "cell_type": "code",
   "execution_count": 3,
   "metadata": {},
   "outputs": [],
   "source": [
    "import tensorflow as tf"
   ]
  },
  {
   "cell_type": "code",
   "execution_count": 4,
   "metadata": {},
   "outputs": [
    {
     "name": "stdout",
     "output_type": "stream",
     "text": [
      "2.12.0\n"
     ]
    }
   ],
   "source": [
    "print(tf.__version__)"
   ]
  },
  {
   "cell_type": "code",
   "execution_count": 5,
   "metadata": {},
   "outputs": [
    {
     "name": "stdout",
     "output_type": "stream",
     "text": [
      "0\n",
      "1\n",
      "2\n",
      "3\n"
     ]
    }
   ],
   "source": [
    "scalar = tf.constant(5)\n",
    "print(scalar.ndim) # 0 dimensional\n",
    "\n",
    "vector = tf.constant([1,2,3,4,5,6])\n",
    "print(vector.ndim) # 1 dimensional\n",
    "\n",
    "matrix = tf.constant([[1.,2.56,3.],[4,5.6,6]])\n",
    "print(matrix.ndim) # 2 dimensional\n",
    "\n",
    "tensor = tf.constant([[[1,2], [3,4]], [[5,6], [7,8]]])\n",
    "print(tensor.ndim) # 3 dimensional"
   ]
  },
  {
   "cell_type": "code",
   "execution_count": 9,
   "metadata": {},
   "outputs": [
    {
     "data": {
      "text/plain": [
       "(<tf.Variable 'Variable:0' shape=(2,) dtype=int32, numpy=array([10,  7], dtype=int32)>,\n",
       " <tf.Tensor: shape=(2,), dtype=int32, numpy=array([10,  7], dtype=int32)>)"
      ]
     },
     "execution_count": 9,
     "metadata": {},
     "output_type": "execute_result"
    }
   ],
   "source": [
    "changable = tf.Variable([10, 7])\n",
    "not_changable = tf.constant([10, 7])\n",
    "\n",
    "changable, not_changable"
   ]
  },
  {
   "cell_type": "code",
   "execution_count": 11,
   "metadata": {},
   "outputs": [
    {
     "data": {
      "text/plain": [
       "<tf.Variable 'Variable:0' shape=(2,) dtype=int32, numpy=array([6, 7], dtype=int32)>"
      ]
     },
     "execution_count": 11,
     "metadata": {},
     "output_type": "execute_result"
    }
   ],
   "source": [
    "changable[0].assign(6) # we can do so, but not on 'not_changable'\n",
    "changable"
   ]
  },
  {
   "cell_type": "code",
   "execution_count": 25,
   "metadata": {},
   "outputs": [
    {
     "data": {
      "text/plain": [
       "<tf.Tensor: shape=(2, 3), dtype=bool, numpy=\n",
       "array([[ True,  True,  True],\n",
       "       [ True,  True,  True]])>"
      ]
     },
     "execution_count": 25,
     "metadata": {},
     "output_type": "execute_result"
    }
   ],
   "source": [
    "test = tf.random.Generator.from_seed([5,4,6])\n",
    "test = test.normal(shape=(6,2))\n",
    "\n",
    "test2 = tf.random.Generator.from_seed([5,4,6])\n",
    "test2 = test2.normal(shape=(6,2))\n",
    "\n",
    "test == test2 # because we had the same seed, they are equal\n",
    "\n",
    "test = tf.random.Generator.from_seed(3)\n",
    "test2 = tf.random.Generator.from_seed(3)\n",
    "\n",
    "test.normal(shape=(2,3)) == test2.normal(shape=(2,3)) # because we had the same seed, they are equal"
   ]
  },
  {
   "cell_type": "code",
   "execution_count": 36,
   "metadata": {},
   "outputs": [
    {
     "data": {
      "text/plain": [
       "<tf.Tensor: shape=(3, 2), dtype=int32, numpy=\n",
       "array([[1, 2],\n",
       "       [3, 4],\n",
       "       [5, 6]], dtype=int32)>"
      ]
     },
     "execution_count": 36,
     "metadata": {},
     "output_type": "execute_result"
    }
   ],
   "source": [
    "tensor = tf.constant([[1, 2], [3, 4], [5, 6]])\n",
    "tensor = tf.random.shuffle(tensor) # items in the array are shuffled, but the inner-arrays stay the same\n",
    "tensor"
   ]
  }
 ],
 "metadata": {
  "kernelspec": {
   "display_name": "Python 3",
   "language": "python",
   "name": "python3"
  },
  "language_info": {
   "codemirror_mode": {
    "name": "ipython",
    "version": 3
   },
   "file_extension": ".py",
   "mimetype": "text/x-python",
   "name": "python",
   "nbconvert_exporter": "python",
   "pygments_lexer": "ipython3",
   "version": "3.11.2"
  },
  "orig_nbformat": 4
 },
 "nbformat": 4,
 "nbformat_minor": 2
}
